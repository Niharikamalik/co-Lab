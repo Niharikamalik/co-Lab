{
  "nbformat": 4,
  "nbformat_minor": 0,
  "metadata": {
    "colab": {
      "provenance": [],
      "collapsed_sections": []
    },
    "kernelspec": {
      "name": "python3",
      "display_name": "Python 3"
    },
    "language_info": {
      "name": "python"
    }
  },
  "cells": [
    {
      "cell_type": "code",
      "execution_count": 21,
      "metadata": {
        "id": "_ZwcT0R8bhRz"
      },
      "outputs": [],
      "source": [
        "import tensorflow as tf\n",
        "import numpy as np\n"
      ]
    },
    {
      "cell_type": "code",
      "source": [
        "print(tf.__version__)"
      ],
      "metadata": {
        "colab": {
          "base_uri": "https://localhost:8080/"
        },
        "id": "tbk4afxhcLqB",
        "outputId": "39091c25-96d5-40fe-d6fd-31a0e63bd93f"
      },
      "execution_count": 22,
      "outputs": [
        {
          "output_type": "stream",
          "name": "stdout",
          "text": [
            "2.8.2\n"
          ]
        }
      ]
    },
    {
      "cell_type": "code",
      "source": [
        "feature_cols = [\n",
        "tf.feature_column.numeric_column (\"area\"),\n",
        "tf.feature_column.categorical_column_with_vocabulary_list(\"type\", [\"rural\",\"urban\"])\n",
        "]"
      ],
      "metadata": {
        "id": "CPk7h_aJhXvM"
      },
      "execution_count": 23,
      "outputs": []
    },
    {
      "cell_type": "code",
      "source": [
        "def train_input_fn():\n",
        "\n",
        "         features = {\"area\": [10000,15000, 20000, 8000, 14000, 6000],\n",
        "                   \"type\":[\"rural\",\"urban\",\"rural\",\n",
        "                    \"rural\", \"urban\",\"urban\"]}\n",
        "         labels=[ 100000, 600000, 220000, 90000 ,500000 ,300000 ]\n",
        "         return features, labels\n",
        "model = tf.estimator.LinearRegressor (feature_cols)        "
      ],
      "metadata": {
        "colab": {
          "base_uri": "https://localhost:8080/"
        },
        "id": "l25gvg6YhYQ9",
        "outputId": "1ca4ac8a-e77c-40a8-878d-c8007f710fea"
      },
      "execution_count": 24,
      "outputs": [
        {
          "output_type": "stream",
          "name": "stderr",
          "text": [
            "WARNING:tensorflow:Using temporary folder as model directory: /tmp/tmppxjai06s\n"
          ]
        }
      ]
    },
    {
      "cell_type": "code",
      "source": [
        "model.train(train_input_fn, steps=200)\n",
        "\n",
        "def predict_input_fn(): \n",
        "          features ={ \"area\":[10000, 15000], \n",
        "                  \"type\":[\"rural\", \"urban\"]}\n",
        "          return features"
      ],
      "metadata": {
        "colab": {
          "base_uri": "https://localhost:8080/"
        },
        "id": "I5j3ra4LmdUY",
        "outputId": "97fb8e26-063b-4105-9863-9b4982252bda"
      },
      "execution_count": 25,
      "outputs": [
        {
          "output_type": "stream",
          "name": "stderr",
          "text": [
            "/usr/local/lib/python3.7/dist-packages/tensorflow_estimator/python/estimator/canned/linear.py:1478: UserWarning: `layer.add_variable` is deprecated and will be removed in a future version. Please use `layer.add_weight` method instead.\n",
            "  getter=tf.compat.v1.get_variable)\n",
            "WARNING:tensorflow:It seems that global step (tf.train.get_global_step) has not been increased. Current value (could be stable): 66 vs previous value: 66. You could increase the global step by passing tf.train.get_global_step() to Optimizer.apply_gradients or Optimizer.minimize.\n"
          ]
        }
      ]
    },
    {
      "cell_type": "code",
      "source": [
        "predictions = model.predict(predict_input_fn)"
      ],
      "metadata": {
        "id": "hqznWoJunGxz"
      },
      "execution_count": 26,
      "outputs": []
    },
    {
      "cell_type": "code",
      "source": [
        "print(next(predictions))\n"
      ],
      "metadata": {
        "colab": {
          "base_uri": "https://localhost:8080/"
        },
        "id": "DGKBgZnxnTHY",
        "outputId": "1c0b37c5-f259-421b-b3b6-2dfb3c7d269b"
      },
      "execution_count": 29,
      "outputs": [
        {
          "output_type": "stream",
          "name": "stdout",
          "text": [
            "{'predictions': array([51347.23], dtype=float32)}\n"
          ]
        }
      ]
    },
    {
      "cell_type": "code",
      "source": [
        "print(next(predictions))"
      ],
      "metadata": {
        "colab": {
          "base_uri": "https://localhost:8080/"
        },
        "id": "UKtcxG9Lpyri",
        "outputId": "6ae824d7-da20-4df3-fc84-fff62da493fe"
      },
      "execution_count": 30,
      "outputs": [
        {
          "output_type": "stream",
          "name": "stdout",
          "text": [
            "{'predictions': array([77016.36], dtype=float32)}\n"
          ]
        }
      ]
    }
  ]
}